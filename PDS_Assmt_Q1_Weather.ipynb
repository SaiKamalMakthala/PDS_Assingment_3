{
 "cells": [
  {
   "cell_type": "code",
   "execution_count": 8,
   "id": "c2361ee9",
   "metadata": {},
   "outputs": [
    {
     "name": "stdout",
     "output_type": "stream",
     "text": [
      "Requirement already satisfied: dash in ./anaconda3/lib/python3.11/site-packages (2.16.1)\n",
      "Requirement already satisfied: Flask<3.1,>=1.0.4 in ./anaconda3/lib/python3.11/site-packages (from dash) (2.2.2)\n",
      "Requirement already satisfied: Werkzeug<3.1 in ./anaconda3/lib/python3.11/site-packages (from dash) (2.2.3)\n",
      "Requirement already satisfied: plotly>=5.0.0 in ./anaconda3/lib/python3.11/site-packages (from dash) (5.9.0)\n",
      "Requirement already satisfied: dash-html-components==2.0.0 in ./anaconda3/lib/python3.11/site-packages (from dash) (2.0.0)\n",
      "Requirement already satisfied: dash-core-components==2.0.0 in ./anaconda3/lib/python3.11/site-packages (from dash) (2.0.0)\n",
      "Requirement already satisfied: dash-table==5.0.0 in ./anaconda3/lib/python3.11/site-packages (from dash) (5.0.0)\n",
      "Requirement already satisfied: importlib-metadata in ./anaconda3/lib/python3.11/site-packages (from dash) (6.0.0)\n",
      "Requirement already satisfied: typing-extensions>=4.1.1 in ./anaconda3/lib/python3.11/site-packages (from dash) (4.7.1)\n",
      "Requirement already satisfied: requests in ./anaconda3/lib/python3.11/site-packages (from dash) (2.31.0)\n",
      "Requirement already satisfied: retrying in ./anaconda3/lib/python3.11/site-packages (from dash) (1.3.4)\n",
      "Requirement already satisfied: nest-asyncio in ./anaconda3/lib/python3.11/site-packages (from dash) (1.5.6)\n",
      "Requirement already satisfied: setuptools in ./anaconda3/lib/python3.11/site-packages (from dash) (68.0.0)\n",
      "Requirement already satisfied: Jinja2>=3.0 in ./anaconda3/lib/python3.11/site-packages (from Flask<3.1,>=1.0.4->dash) (3.1.2)\n",
      "Requirement already satisfied: itsdangerous>=2.0 in ./anaconda3/lib/python3.11/site-packages (from Flask<3.1,>=1.0.4->dash) (2.0.1)\n",
      "Requirement already satisfied: click>=8.0 in ./anaconda3/lib/python3.11/site-packages (from Flask<3.1,>=1.0.4->dash) (8.0.4)\n",
      "Requirement already satisfied: tenacity>=6.2.0 in ./anaconda3/lib/python3.11/site-packages (from plotly>=5.0.0->dash) (8.2.2)\n",
      "Requirement already satisfied: MarkupSafe>=2.1.1 in ./anaconda3/lib/python3.11/site-packages (from Werkzeug<3.1->dash) (2.1.1)\n",
      "Requirement already satisfied: zipp>=0.5 in ./anaconda3/lib/python3.11/site-packages (from importlib-metadata->dash) (3.11.0)\n",
      "Requirement already satisfied: charset-normalizer<4,>=2 in ./anaconda3/lib/python3.11/site-packages (from requests->dash) (2.0.4)\n",
      "Requirement already satisfied: idna<4,>=2.5 in ./anaconda3/lib/python3.11/site-packages (from requests->dash) (3.4)\n",
      "Requirement already satisfied: urllib3<3,>=1.21.1 in ./anaconda3/lib/python3.11/site-packages (from requests->dash) (1.26.16)\n",
      "Requirement already satisfied: certifi>=2017.4.17 in ./anaconda3/lib/python3.11/site-packages (from requests->dash) (2023.7.22)\n",
      "Requirement already satisfied: six>=1.7.0 in ./anaconda3/lib/python3.11/site-packages (from retrying->dash) (1.16.0)\n",
      "Note: you may need to restart the kernel to use updated packages.\n"
     ]
    }
   ],
   "source": [
    "pip install dash"
   ]
  },
  {
   "cell_type": "code",
   "execution_count": 25,
   "id": "e985a729",
   "metadata": {},
   "outputs": [
    {
     "data": {
      "text/html": [
       "\n",
       "        <iframe\n",
       "            width=\"100%\"\n",
       "            height=\"650\"\n",
       "            src=\"http://127.0.0.1:8798/\"\n",
       "            frameborder=\"0\"\n",
       "            allowfullscreen\n",
       "            \n",
       "        ></iframe>\n",
       "        "
      ],
      "text/plain": [
       "<IPython.lib.display.IFrame at 0x1077e4210>"
      ]
     },
     "metadata": {},
     "output_type": "display_data"
    }
   ],
   "source": [
    "import requests\n",
    "import dash\n",
    "import dash_html_components as html\n",
    "import dash_core_components as dcc\n",
    "import plotly.graph_objs as go\n",
    "\n",
    "# OpenWeatherMap API key\n",
    "my_api_key = \"1bb571682b348fe67ff37524f894fa37\"\n",
    "\n",
    "# Define the location for which to get weather data\n",
    "city = \"San Francisco\"\n",
    "\n",
    "# Define the API endpoint\n",
    "url = f\"http://api.openweathermap.org/data/2.5/weather?q={city}&appid={my_api_key}&units=metric\"\n",
    "\n",
    "# Make the API request\n",
    "response = requests.get(url)\n",
    "data = response.json()\n",
    "\n",
    "# Extract the weather data\n",
    "city_weather_data = []\n",
    "if data.get(\"weather\"):\n",
    "    weather_description = data[\"weather\"][0][\"description\"].capitalize()\n",
    "    city_weather_data.append({\"Description\": weather_description})\n",
    "\n",
    "if data.get(\"main\"):\n",
    "    temperature = data[\"main\"][\"temp\"]\n",
    "    humidity = data[\"main\"][\"humidity\"]\n",
    "    city_weather_data.append({\"temperature is\": temperature, \"humidity is\": humidity})\n",
    "\n",
    "if data.get(\"wind\"):\n",
    "    wind_speed = data[\"wind\"][\"speed\"]\n",
    "    city_weather_data.append({\"wind_speed is\": wind_speed})\n",
    "\n",
    "if data.get(\"snow\"):\n",
    "    precipitation = data[\"snow\"].get(\"1h\", 0)  # 1-hour precipitation in mm\n",
    "    city_weather_data.append({\"Snowfall (1h)\": precipitation})\n",
    "\n",
    "# Create a Dash app\n",
    "app = dash.Dash(__name__)\n",
    "\n",
    "# Define the app layout\n",
    "app.layout = html.Div(children=[\n",
    "    html.H1(\"Weather Data of \"+ city),\n",
    "    dcc.Graph(\n",
    "        id=\"weather-graph\",\n",
    "        figure={\n",
    "            \"data\": [\n",
    "                go.Table(\n",
    "                    header=dict(values=list(city_weather_data[0].keys())),\n",
    "                    cells=dict(values=[list(city_weather_data[i].values()) for i in range(len(city_weather_data))]),\n",
    "                )\n",
    "            ],\n",
    "            \"layout\": go.Layout(\n",
    "                title=f\"Weather Info of {city.capitalize()}\"\n",
    "            ),\n",
    "        },\n",
    "    ),\n",
    "])\n",
    "\n",
    "# Run the Dash app\n",
    "if __name__ == \"__main__\":\n",
    "    app.run_server(debug=True , port=8798)"
   ]
  },
  {
   "cell_type": "code",
   "execution_count": null,
   "id": "c47cde25",
   "metadata": {},
   "outputs": [],
   "source": []
  },
  {
   "cell_type": "code",
   "execution_count": null,
   "id": "2c47a914",
   "metadata": {},
   "outputs": [],
   "source": []
  },
  {
   "cell_type": "code",
   "execution_count": null,
   "id": "7b7797d9",
   "metadata": {},
   "outputs": [],
   "source": []
  },
  {
   "cell_type": "code",
   "execution_count": null,
   "id": "36727c79",
   "metadata": {},
   "outputs": [],
   "source": []
  }
 ],
 "metadata": {
  "kernelspec": {
   "display_name": "Python 3 (ipykernel)",
   "language": "python",
   "name": "python3"
  },
  "language_info": {
   "codemirror_mode": {
    "name": "ipython",
    "version": 3
   },
   "file_extension": ".py",
   "mimetype": "text/x-python",
   "name": "python",
   "nbconvert_exporter": "python",
   "pygments_lexer": "ipython3",
   "version": "3.11.5"
  }
 },
 "nbformat": 4,
 "nbformat_minor": 5
}
